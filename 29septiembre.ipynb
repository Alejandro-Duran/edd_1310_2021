{
  "nbformat": 4,
  "nbformat_minor": 0,
  "metadata": {
    "colab": {
      "name": "Untitled0.ipynb",
      "provenance": [],
      "authorship_tag": "ABX9TyPd88tPexYczVWIn6fF3U+V",
      "include_colab_link": true
    },
    "kernelspec": {
      "name": "python3",
      "display_name": "Python 3"
    }
  },
  "cells": [
    {
      "cell_type": "markdown",
      "metadata": {
        "id": "view-in-github",
        "colab_type": "text"
      },
      "source": [
        "<a href=\"https://colab.research.google.com/github/Alejandro-Duran/edd_1310_2021/blob/master/29septiembre.ipynb\" target=\"_parent\"><img src=\"https://colab.research.google.com/assets/colab-badge.svg\" alt=\"Open In Colab\"/></a>"
      ]
    },
    {
      "cell_type": "code",
      "metadata": {
        "id": "eafQtrsZstEx"
      },
      "source": [
        "edad = 10"
      ],
      "execution_count": 2,
      "outputs": []
    },
    {
      "cell_type": "code",
      "metadata": {
        "id": "_-xGw7mXvRxP"
      },
      "source": [
        "print (edad)\n",
        "colores = ['rojo', 'azul', 'verde', 'morado', 'violeta']\n",
        "print(colores)"
      ],
      "execution_count": null,
      "outputs": []
    },
    {
      "cell_type": "code",
      "metadata": {
        "id": "tvhapGFxxAi3"
      },
      "source": [
        "print(colores[3])"
      ],
      "execution_count": null,
      "outputs": []
    },
    {
      "cell_type": "code",
      "metadata": {
        "id": "XPEfsEiMxLxF"
      },
      "source": [
        "#solo mostrar la 'ra' de morado\n",
        "print(colores[3][2:4])\n",
        "nombre=\"Alberto\"\n",
        "print(nombre[0])\n",
        "print(nombre[0:3:1])\n"
      ],
      "execution_count": null,
      "outputs": []
    },
    {
      "cell_type": "markdown",
      "metadata": {
        "id": "48wnSc7CyJrL"
      },
      "source": [
        "# For en python 3\n",
        "tiene 2 variantes\n",
        "1:for var in range(inicio, tope, incremento)\n",
        "2:in [iterador]"
      ]
    },
    {
      "cell_type": "code",
      "metadata": {
        "id": "e4-26yPOy4Dw"
      },
      "source": [
        "for i in range(0,5,1):\n",
        " print(colores[i])"
      ],
      "execution_count": null,
      "outputs": []
    },
    {
      "cell_type": "code",
      "metadata": {
        "id": "Hij2kBKgz2-X"
      },
      "source": [
        "for j in colores:\n",
        "  print(j)"
      ],
      "execution_count": null,
      "outputs": []
    },
    {
      "cell_type": "code",
      "metadata": {
        "id": "XrrglF2o0iGj"
      },
      "source": [
        "for k in range(0,len(nombre),1):\n",
        "  print(nombre[k])"
      ],
      "execution_count": null,
      "outputs": []
    },
    {
      "cell_type": "code",
      "metadata": {
        "id": "_GGe9neU0747"
      },
      "source": [
        "for l in nombre:\n",
        "  print(l)"
      ],
      "execution_count": null,
      "outputs": []
    },
    {
      "cell_type": "markdown",
      "metadata": {
        "id": "dZXZ9wAe1l9H"
      },
      "source": [
        "# Que es Markdown\n",
        "es un lenguaje de marcado para documentar codigo, el objetivo es simplificar la escritura de html\n",
        "___\n",
        "**negritas**\n",
        "o\n",
        "***\n",
        "mas informacion en: [Github Cheatsheet mardown](https://guides.github.com/features/mastering-markdown/)\n",
        "\n",
        "![Fes](https://upload.wikimedia.org/wikipedia/commons/thumb/5/51/Aragon_Jonhy_corel.jpg/240px-Aragon_Jonhy_corel.jpg)"
      ]
    }
  ]
}